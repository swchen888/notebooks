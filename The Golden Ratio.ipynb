{
 "cells": [
  {
   "cell_type": "code",
   "execution_count": 7,
   "metadata": {
    "collapsed": false
   },
   "outputs": [],
   "source": [
    "from __future__ import division, print_function"
   ]
  },
  {
   "cell_type": "markdown",
   "metadata": {},
   "source": [
    "# The Golden Ratio\n",
    "\n",
    "https://en.wikipedia.org/wiki/Golden_ratio\n",
    "\n",
    "http://mathworld.wolfram.com/GoldenRatio.html\n",
    "\n",
    "http://www.maths.surrey.ac.uk/hosted-sites/R.Knott/Fibonacci/phi.html"
   ]
  },
  {
   "cell_type": "markdown",
   "metadata": {},
   "source": [
    "## Introduction and background on golden rectangle and golden ratio.\n",
    "\n",
    "The equality of the aspect ratios of the two rectangles is expressed by the equation\n",
    "$\\dfrac{1}{\\phi} = \\dfrac{\\phi - 1}{1}$.\n",
    "\n",
    "We re-write this equation to standard polynomial form $\\phi^{2} - \\phi -1 = 0$."
   ]
  },
  {
   "cell_type": "markdown",
   "metadata": {},
   "source": [
    "## Quadratic Formula\n",
    "\n",
    "We first solve this 2nd-order polynomial using the quadratic formula:\n",
    "$x = \\dfrac{-b \\pm \\sqrt{b^2 - 4ac}}{2a}$\n",
    "\n",
    "For solving for $\\phi$, $a = 1, b = -1, c = -1$."
   ]
  },
  {
   "cell_type": "code",
   "execution_count": 8,
   "metadata": {
    "collapsed": false
   },
   "outputs": [
    {
     "data": {
      "text/plain": [
       "(1.6180339887498949, -0.6180339887498949)"
      ]
     },
     "execution_count": 8,
     "metadata": {},
     "output_type": "execute_result"
    }
   ],
   "source": [
    "from numpy import sqrt\n",
    "\n",
    "a, b, c = 1, -1, -1\n",
    "\n",
    "(-b + sqrt(b**2 - 4 * a * c))/2, (-b - sqrt(b**2 - 4 * a * c))/2"
   ]
  },
  {
   "cell_type": "markdown",
   "metadata": {},
   "source": [
    "For the exact $\\phi$, we will use the positive root produced by the quadratic formula.\n",
    "\n",
    "$\\phi = \\dfrac{(1 + \\sqrt{5})}{2}$"
   ]
  },
  {
   "cell_type": "code",
   "execution_count": 66,
   "metadata": {
    "collapsed": false
   },
   "outputs": [
    {
     "data": {
      "text/plain": [
       "1.6180339887498949"
      ]
     },
     "execution_count": 66,
     "metadata": {},
     "output_type": "execute_result"
    }
   ],
   "source": [
    "phi = (1 + sqrt(5))/2\n",
    "phi"
   ]
  },
  {
   "cell_type": "markdown",
   "metadata": {},
   "source": [
    "We can express the negative root in terms of the positive one."
   ]
  },
  {
   "cell_type": "code",
   "execution_count": 67,
   "metadata": {
    "collapsed": false
   },
   "outputs": [
    {
     "data": {
      "text/plain": [
       "True"
      ]
     },
     "execution_count": 67,
     "metadata": {},
     "output_type": "execute_result"
    }
   ],
   "source": [
    "1-phi == (1 - sqrt(5))/2"
   ]
  },
  {
   "cell_type": "markdown",
   "metadata": {},
   "source": [
    "Let's also confirm that these values of $\\phi$ do satisfy the specified relationship."
   ]
  },
  {
   "cell_type": "code",
   "execution_count": 86,
   "metadata": {
    "collapsed": false
   },
   "outputs": [
    {
     "data": {
      "text/plain": [
       "True"
      ]
     },
     "execution_count": 86,
     "metadata": {},
     "output_type": "execute_result"
    }
   ],
   "source": [
    "phi**2 - phi - 1 == 0"
   ]
  },
  {
   "cell_type": "code",
   "execution_count": 79,
   "metadata": {
    "collapsed": false
   },
   "outputs": [
    {
     "data": {
      "text/plain": [
       "True"
      ]
     },
     "execution_count": 79,
     "metadata": {},
     "output_type": "execute_result"
    }
   ],
   "source": [
    "phi - 1/phi ==  1"
   ]
  },
  {
   "cell_type": "code",
   "execution_count": 80,
   "metadata": {
    "collapsed": false
   },
   "outputs": [
    {
     "data": {
      "text/plain": [
       "True"
      ]
     },
     "execution_count": 80,
     "metadata": {},
     "output_type": "execute_result"
    }
   ],
   "source": [
    "phi == 1 + 1/phi"
   ]
  },
  {
   "cell_type": "code",
   "execution_count": 81,
   "metadata": {
    "collapsed": false
   },
   "outputs": [
    {
     "data": {
      "text/plain": [
       "True"
      ]
     },
     "execution_count": 81,
     "metadata": {},
     "output_type": "execute_result"
    }
   ],
   "source": [
    "phi == (phi + 1)/phi"
   ]
  },
  {
   "cell_type": "code",
   "execution_count": 82,
   "metadata": {
    "collapsed": false
   },
   "outputs": [
    {
     "data": {
      "text/plain": [
       "False"
      ]
     },
     "execution_count": 82,
     "metadata": {},
     "output_type": "execute_result"
    }
   ],
   "source": [
    "1/phi == phi - 1"
   ]
  },
  {
   "cell_type": "code",
   "execution_count": 83,
   "metadata": {
    "collapsed": false
   },
   "outputs": [
    {
     "data": {
      "text/plain": [
       "-1.1102230246251565e-16"
      ]
     },
     "execution_count": 83,
     "metadata": {},
     "output_type": "execute_result"
    }
   ],
   "source": [
    "1/phi - (phi - 1)"
   ]
  },
  {
   "cell_type": "code",
   "execution_count": 107,
   "metadata": {
    "collapsed": false
   },
   "outputs": [
    {
     "data": {
      "text/plain": [
       "False"
      ]
     },
     "execution_count": 107,
     "metadata": {},
     "output_type": "execute_result"
    }
   ],
   "source": [
    "phi * (1/phi) == phi * (phi - 1)"
   ]
  },
  {
   "cell_type": "markdown",
   "metadata": {},
   "source": [
    "## Polynomial Root Finder\n",
    "\n",
    "Alternatively, we can find the roots using a general polynomial root finder such as _numpy.roots_.\n",
    "\n",
    "The polynomial coefficients are 1, -1, -1."
   ]
  },
  {
   "cell_type": "code",
   "execution_count": 56,
   "metadata": {
    "collapsed": false
   },
   "outputs": [
    {
     "data": {
      "text/plain": [
       "array([ 1.61803399, -0.61803399])"
      ]
     },
     "execution_count": 56,
     "metadata": {},
     "output_type": "execute_result"
    }
   ],
   "source": [
    "from numpy import roots\n",
    "\n",
    "p = (1, -1, -1)\n",
    "r = roots(p)\n",
    "r"
   ]
  },
  {
   "cell_type": "code",
   "execution_count": 57,
   "metadata": {
    "collapsed": false
   },
   "outputs": [
    {
     "data": {
      "text/plain": [
       "1.6180339887498949"
      ]
     },
     "execution_count": 57,
     "metadata": {},
     "output_type": "execute_result"
    }
   ],
   "source": [
    "r[0]"
   ]
  },
  {
   "cell_type": "code",
   "execution_count": 59,
   "metadata": {
    "collapsed": false
   },
   "outputs": [
    {
     "data": {
      "text/plain": [
       "True"
      ]
     },
     "execution_count": 59,
     "metadata": {},
     "output_type": "execute_result"
    }
   ],
   "source": [
    "r[0] == phi"
   ]
  },
  {
   "cell_type": "markdown",
   "metadata": {},
   "source": [
    "## General Function Solver\n",
    "\n",
    "We can also use a general function solver such as _scipy.optimize.fsolve_ to find the roots of the function.\n",
    "\n",
    "This is the python equivalent to MATLABZ's $fzero$."
   ]
  },
  {
   "cell_type": "code",
   "execution_count": 13,
   "metadata": {
    "collapsed": true
   },
   "outputs": [],
   "source": [
    "from scipy.optimize import fsolve"
   ]
  },
  {
   "cell_type": "code",
   "execution_count": 14,
   "metadata": {
    "collapsed": true
   },
   "outputs": [],
   "source": [
    "#f = lambda x: 1./x - (x - 1) # leads to division by zero problems\n",
    "f = lambda x: x**2 - x - 1"
   ]
  },
  {
   "cell_type": "code",
   "execution_count": 61,
   "metadata": {
    "collapsed": false
   },
   "outputs": [
    {
     "data": {
      "text/plain": [
       "(1.6180339887498947, -0.61803398874989479)"
      ]
     },
     "execution_count": 61,
     "metadata": {},
     "output_type": "execute_result"
    }
   ],
   "source": [
    "r1, r2 = fsolve(f, 1)[0], fsolve(f, -1)[0]\n",
    "r1, r2"
   ]
  },
  {
   "cell_type": "code",
   "execution_count": 62,
   "metadata": {
    "collapsed": false
   },
   "outputs": [
    {
     "data": {
      "text/plain": [
       "False"
      ]
     },
     "execution_count": 62,
     "metadata": {},
     "output_type": "execute_result"
    }
   ],
   "source": [
    "phi == r1"
   ]
  },
  {
   "cell_type": "code",
   "execution_count": 63,
   "metadata": {
    "collapsed": false
   },
   "outputs": [
    {
     "data": {
      "text/plain": [
       "-2.2204460492503131e-16"
      ]
     },
     "execution_count": 63,
     "metadata": {},
     "output_type": "execute_result"
    }
   ],
   "source": [
    "r1 - phi"
   ]
  },
  {
   "cell_type": "code",
   "execution_count": 16,
   "metadata": {
    "collapsed": false
   },
   "outputs": [
    {
     "name": "stdout",
     "output_type": "stream",
     "text": [
      "-10 -0.61803398875\n",
      "-9 -0.61803398875\n",
      "-8 -0.61803398875\n",
      "-7 -0.61803398875\n",
      "-6 -0.61803398875\n",
      "-5 -0.61803398875\n",
      "-4 -0.61803398875\n",
      "-3 -0.61803398875\n",
      "-2 -0.61803398875\n",
      "-1 -0.61803398875\n",
      "0 -0.61803398875\n",
      "1 1.61803398875\n",
      "2 1.61803398875\n",
      "3 1.61803398875\n",
      "4 1.61803398875\n",
      "5 1.61803398875\n",
      "6 1.61803398875\n",
      "7 1.61803398875\n",
      "8 1.61803398875\n",
      "9 1.61803398875\n"
     ]
    }
   ],
   "source": [
    "for n in range(-10, 10):\n",
    "    print(n, fsolve(f, n)[0])"
   ]
  },
  {
   "cell_type": "markdown",
   "metadata": {},
   "source": [
    "## Symbolic Computation\n",
    "\n",
    "We can also solve the equation symbolically using a Computer Algebra System (CAS) such as _sympy_."
   ]
  },
  {
   "cell_type": "code",
   "execution_count": 17,
   "metadata": {
    "collapsed": false
   },
   "outputs": [],
   "source": [
    "from sympy import Symbol, N\n",
    "from sympy.solvers import solve"
   ]
  },
  {
   "cell_type": "code",
   "execution_count": 18,
   "metadata": {
    "collapsed": false
   },
   "outputs": [],
   "source": [
    "x = Symbol('x')"
   ]
  },
  {
   "cell_type": "code",
   "execution_count": 19,
   "metadata": {
    "collapsed": false
   },
   "outputs": [
    {
     "data": {
      "text/plain": [
       "[1/2 + sqrt(5)/2, -sqrt(5)/2 + 1/2]"
      ]
     },
     "execution_count": 19,
     "metadata": {},
     "output_type": "execute_result"
    }
   ],
   "source": [
    "r = solve(1/x - x + 1)\n",
    "r"
   ]
  },
  {
   "cell_type": "code",
   "execution_count": 20,
   "metadata": {
    "collapsed": false
   },
   "outputs": [
    {
     "data": {
      "text/plain": [
       "[1/2 + sqrt(5)/2, -sqrt(5)/2 + 1/2]"
      ]
     },
     "execution_count": 20,
     "metadata": {},
     "output_type": "execute_result"
    }
   ],
   "source": [
    "r2 = solve(x**2 - x - 1)\n",
    "r2"
   ]
  },
  {
   "cell_type": "code",
   "execution_count": 21,
   "metadata": {
    "collapsed": false
   },
   "outputs": [
    {
     "data": {
      "text/plain": [
       "(1.61803398874989, -0.618033988749895)"
      ]
     },
     "execution_count": 21,
     "metadata": {},
     "output_type": "execute_result"
    }
   ],
   "source": [
    "N(r[0]), N(r[1])"
   ]
  },
  {
   "cell_type": "code",
   "execution_count": 64,
   "metadata": {
    "collapsed": false
   },
   "outputs": [
    {
     "data": {
      "text/plain": [
       "True"
      ]
     },
     "execution_count": 64,
     "metadata": {},
     "output_type": "execute_result"
    }
   ],
   "source": [
    "phi == N(r[0])"
   ]
  },
  {
   "cell_type": "markdown",
   "metadata": {},
   "source": [
    "## Visualization\n",
    "\n",
    "We can also plot the polynomial equation to visualize the function zeros.  Here, we use the _sympy.mpmath.plot_ to plot the golden ratio polynomial defined earlier.\n",
    "\n",
    "This is the closest python equivalent to MATLAB's _ezplot_."
   ]
  },
  {
   "cell_type": "code",
   "execution_count": 22,
   "metadata": {
    "collapsed": true
   },
   "outputs": [],
   "source": [
    "from sympy import mpmath"
   ]
  },
  {
   "cell_type": "code",
   "execution_count": 23,
   "metadata": {
    "collapsed": true
   },
   "outputs": [],
   "source": [
    "#f = lambda x: 1./x - (x - 1)\n",
    "#f = lambda x: x**2 - x - 1"
   ]
  },
  {
   "cell_type": "code",
   "execution_count": 32,
   "metadata": {
    "collapsed": false
   },
   "outputs": [
    {
     "data": {
      "image/png": "[encoded data removed]",
      "text/plain": [
       "<matplotlib.figure.Figure at 0xcc3b7f0>"
      ]
     },
     "metadata": {},
     "output_type": "display_data"
    }
   ],
   "source": [
    "%matplotlib inline\n",
    "import matplotlib.pyplot as plt\n",
    "\n",
    "mpmath.plot(f, [-3, 4], [-2, 12])"
   ]
  },
  {
   "cell_type": "code",
   "execution_count": 25,
   "metadata": {
    "collapsed": false
   },
   "outputs": [],
   "source": [
    "\n",
    "from numpy import arange"
   ]
  },
  {
   "cell_type": "code",
   "execution_count": 44,
   "metadata": {
    "collapsed": false
   },
   "outputs": [],
   "source": [
    "x = arange(-3, 4, .05)\n",
    "y = [f(a) for a in x]"
   ]
  },
  {
   "cell_type": "code",
   "execution_count": 51,
   "metadata": {
    "collapsed": false
   },
   "outputs": [
    {
     "data": {
      "text/plain": [
       "[<matplotlib.lines.Line2D at 0xe642710>]"
      ]
     },
     "execution_count": 51,
     "metadata": {},
     "output_type": "execute_result"
    },
    {
     "data": {
      "image/png": "[encoded data removed]",
      "text/plain": [
       "<matplotlib.figure.Figure at 0xe64d438>"
      ]
     },
     "metadata": {},
     "output_type": "display_data"
    }
   ],
   "source": [
    "plt.figure(1)\n",
    "plt.plot(x, y, linewidth=3)\n",
    "plt.grid(which='Both')\n",
    "plt.xlabel('x')\n",
    "plt.ylabel('f(x)')\n",
    "plt.xlim(-3, 4)\n",
    "plt.ylim(-2, 12)\n",
    "\n",
    "plt.plot(phi, 0, 'go')\n",
    "plt.plot(1-phi, 0, 'ro')"
   ]
  },
  {
   "cell_type": "markdown",
   "metadata": {},
   "source": [
    "## Continued Fractions"
   ]
  },
  {
   "cell_type": "markdown",
   "metadata": {
    "collapsed": true
   },
   "source": [
    "We can also express the Golden Ratio as a continued fraction of the form:\n",
    "\n",
    "$x = a_0 + \\cfrac{1}{a_1 + \\cfrac{1}{a_2 + \\cfrac{1}{\\ddots + \\cfrac{1}{a_m} } } } $\n",
    "\n",
    "For the Golden Ratio, the $a_{i}$'s are always 1:\n",
    "\n",
    "$\\phi = 1 + \\cfrac{1}{1 + \\cfrac{1}{1 + \\cfrac{1}{\\ddots + \\cfrac{1}{1} } } } $\n",
    "\n",
    "Using this approach, we compute $\\phi$ by iteratively expanding the continued fraction until the desired precision is achieved.\n",
    "\n",
    "[Example of fixed-point iteration.]\n"
   ]
  },
  {
   "cell_type": "code",
   "execution_count": 22,
   "metadata": {
    "collapsed": false
   },
   "outputs": [],
   "source": [
    "def goldfract(n):\n",
    "    '''Based on Moler Numerical Computing with MATLAB'''\n",
    "    \n",
    "    p = '1'\n",
    "    for k in range(0, n):\n",
    "        p = '1+1/(' + p + ')'\n",
    "        \n",
    "    print(p)\n",
    "    \n",
    "    approx_phi = eval(p)\n",
    "    \n",
    "    # computation of the continued fraction\n",
    "    p, q = 1, 1\n",
    "    for k in range(0, n):\n",
    "        p, q = p + q, p\n",
    "        \n",
    "    print(\"%d/%d\" % (p, q))\n",
    "       \n",
    "    \n",
    "    exact_phi = (1+sqrt(5))/2\n",
    "    \n",
    "    error = approx_phi - exact_phi\n",
    "    \n",
    "    print(\"Approx = %0.30g\" % approx_phi)\n",
    "    print(\"Exact = %0.30g\" % exact_phi)\n",
    "    print(\"Error = %0.30g\" % error)"
   ]
  },
  {
   "cell_type": "code",
   "execution_count": 23,
   "metadata": {
    "collapsed": false
   },
   "outputs": [
    {
     "name": "stdout",
     "output_type": "stream",
     "text": [
      "1\n",
      "1/1\n",
      "Approx = 1\n",
      "Exact = 1.61803398874989490252573887119\n",
      "Error = -0.618033988749894902525738871191\n",
      "1+1/(1)\n",
      "2/1\n",
      "Approx = 2\n",
      "Exact = 1.61803398874989490252573887119\n",
      "Error = 0.381966011250105097474261128809\n",
      "1+1/(1+1/(1))\n",
      "3/2\n",
      "Approx = 1.5\n",
      "Exact = 1.61803398874989490252573887119\n",
      "Error = -0.118033988749894902525738871191\n",
      "1+1/(1+1/(1+1/(1)))\n",
      "5/3\n",
      "Approx = 1.66666666666666651863693004998\n",
      "Exact = 1.61803398874989490252573887119\n",
      "Error = 0.0486326779167716161111911787884\n"
     ]
    }
   ],
   "source": [
    "for n in range(4):\n",
    "    goldfract(n)"
   ]
  },
  {
   "cell_type": "code",
   "execution_count": 24,
   "metadata": {
    "collapsed": false
   },
   "outputs": [
    {
     "name": "stdout",
     "output_type": "stream",
     "text": [
      "1/1 = 1.00000000000000000000\n",
      "error: -0.61803398874989490253\n",
      "2/1 = 2.00000000000000000000\n",
      "error: 0.38196601125010509747\n",
      "3/2 = 1.50000000000000000000\n",
      "error: -0.11803398874989490253\n",
      "5/3 = 1.66666666666666674068\n",
      "error: 0.04863267791677183816\n",
      "8/5 = 1.60000000000000008882\n",
      "error: -0.01803398874989481371\n",
      "13/8 = 1.62500000000000000000\n",
      "error: 0.00696601125010509747\n",
      "21/13 = 1.61538461538461541878\n",
      "error: -0.00264937336527948375\n",
      "34/21 = 1.61904761904761906877\n",
      "error: 0.00101363029772416624\n",
      "55/34 = 1.61764705882352943789\n",
      "error: -0.00038692992636546464\n",
      "89/55 = 1.61818181818181816567\n",
      "error: 0.00014782943192326314\n"
     ]
    }
   ],
   "source": [
    "from fractions import Fraction\n",
    "\n",
    "exact_phi = (1 + sqrt(5))/2\n",
    "\n",
    "p, q = 1, 1\n",
    "for i in range(0, 10):\n",
    "    approx_phi = float(Fraction(p, q))\n",
    "    error_phi = approx_phi - exact_phi\n",
    "    print(\"%d/%d = %.20f\" % (p, q, approx_phi))\n",
    "    print(\"error: %.20f\" % (error_phi))\n",
    "          \n",
    "    p, q = p + q, p"
   ]
  },
  {
   "cell_type": "code",
   "execution_count": 25,
   "metadata": {
    "collapsed": false
   },
   "outputs": [
    {
     "data": {
      "text/plain": [
       "1.6180339887498949"
      ]
     },
     "execution_count": 25,
     "metadata": {},
     "output_type": "execute_result"
    }
   ],
   "source": [
    "phi"
   ]
  },
  {
   "cell_type": "code",
   "execution_count": 26,
   "metadata": {
    "collapsed": false
   },
   "outputs": [
    {
     "data": {
      "text/plain": [
       "1.0"
      ]
     },
     "execution_count": 26,
     "metadata": {},
     "output_type": "execute_result"
    }
   ],
   "source": [
    "phi - 1/phi"
   ]
  }
 ],
 "metadata": {
  "kernelspec": {
   "display_name": "Python 2",
   "language": "python",
   "name": "python2"
  },
  "language_info": {
   "codemirror_mode": {
    "name": "ipython",
    "version": 2
   },
   "file_extension": ".py",
   "mimetype": "text/x-python",
   "name": "python",
   "nbconvert_exporter": "python",
   "pygments_lexer": "ipython2",
   "version": "2.7.10"
  }
 },
 "nbformat": 4,
 "nbformat_minor": 0
}
